{
 "cells": [
  {
   "cell_type": "markdown",
   "id": "ea833a10",
   "metadata": {},
   "source": [
    "# Setup"
   ]
  },
  {
   "cell_type": "code",
   "execution_count": 2,
   "id": "7d71785f",
   "metadata": {},
   "outputs": [
    {
     "data": {
      "text/plain": [
       "True"
      ]
     },
     "execution_count": 2,
     "metadata": {},
     "output_type": "execute_result"
    }
   ],
   "source": [
    "import sys\n",
    "# Python 3.7 is required\n",
    "assert sys.version_info >= (3,7)\n",
    "\n",
    "import cv2 as cv\n",
    "import numpy as np\n",
    "import matplotlib.pyplot as plt\n",
    "\n",
    "# Make sure that optimization is enabled\n",
    "if not cv.useOptimized():\n",
    "    cv.setUseOptimized(True)\n",
    "\n",
    "cv.useOptimized()"
   ]
  },
  {
   "cell_type": "markdown",
   "id": "c2784f43",
   "metadata": {},
   "source": [
    "1. Apply histogram equalization on a histogram equalized image. In other words, apply histogram equalization twice on an image. Is there any difference between the first and second output image? You are free to use any image."
   ]
  },
  {
   "cell_type": "code",
   "execution_count": null,
   "id": "61e92080",
   "metadata": {},
   "outputs": [],
   "source": [
    "img = cv.imread('winter.jfif',0)\n",
    "eq1 = cv.equalizeHist(img)\n",
    "eq2 = cv.equalizeHist(eq1)\n",
    "cv.imshow('result', np.hstack([img,eq1,eq2]))\n",
    "cv.waitKey(0)\n",
    "cv.destroyAllWindows()"
   ]
  },
  {
   "cell_type": "markdown",
   "id": "3aa64688",
   "metadata": {},
   "source": [
    "There are no difference between the images."
   ]
  },
  {
   "cell_type": "markdown",
   "id": "497c5c09",
   "metadata": {},
   "source": [
    "2. Load the image 'electronic.jfif'. Then,\n",
    "    - Experiment with different kernel size. Which kernel size is the most appropriate?\n",
    "    - Perform edge detection using Sobel operator (combined both x and y) with and without image smoothing (Gaussian blurring). Display the 2 images.\n",
    "    - Try Laplacian of Gaussian\n",
    "\n",
    "    Based on the exercise conducted from (A) - (C), which image processing pathway is optimal? Justify your answer."
   ]
  },
  {
   "cell_type": "code",
   "execution_count": null,
   "id": "87d892cb",
   "metadata": {},
   "outputs": [],
   "source": [
    "img = cv.imread('electronic.jfif', 0)\n",
    "img2 = cv.GaussianBlur(img, (5,5), 0)\n",
    "\n",
    "#Horizontal and vertical Sobel\n",
    "sobel_x1 = cv.Sobel(img, cv.CV_64F, 1, 0, ksize=3)\n",
    "sobel_y1 = cv.Sobel(img, cv.CV_64F, 0, 1, ksize=3)\n",
    "\n",
    "#gradient map (L2 norm)\n",
    "grad1 = cv.magnitude(sobel_x1, sobel_y1)\n",
    "grad1 = cv.convertScaleAbs(grad1)\n",
    "\n",
    "#Horizontal and vertical Sobel\n",
    "sobel_x2 = cv.Sobel(img2, cv.CV_64F, 1, 0, ksize=3)\n",
    "sobel_y2 = cv.Sobel(img2, cv.CV_64F, 0, 1, ksize=3)\n",
    "\n",
    "#gradient map (L2 norm)\n",
    "grad2 = cv.magnitude(sobel_x2, sobel_y2)\n",
    "grad2 = cv.convertScaleAbs(grad2)\n",
    "\n",
    "cv.imshow('Result', np.hstack((grad1,grad2)))\n",
    "cv.waitKey(0)"
   ]
  },
  {
   "cell_type": "code",
   "execution_count": null,
   "id": "7e8c1c99",
   "metadata": {},
   "outputs": [],
   "source": [
    "#Laplacian of Gaussian\n",
    "img_blur = cv.GaussianBlur(img, (5,5), 0)\n",
    "laplacian = cv.Laplacian(img_blur, cv.CV_64F, ksize = 3)\n",
    "laplacian_8u = cv.convertScaleAbs(laplacian)\n",
    "\n",
    "cv.imshow('laplacian', laplacian_8u)\n",
    "cv.waitKey(0)"
   ]
  },
  {
   "cell_type": "markdown",
   "id": "c125e007",
   "metadata": {},
   "source": [
    "The Laplacian of Gaussian pathway is the best, since the detected edges looks more cleaner than Sobel, no matter blurred or not."
   ]
  },
  {
   "cell_type": "markdown",
   "id": "08184f18",
   "metadata": {},
   "source": [
    "3. Experiment with different edge detectors: Sobel, Laplacian, Prewitt, Scharr derivatives and Canny operators (all with aperture size of 3) on image named 'pineapple.jfif'. Comment on the results."
   ]
  },
  {
   "cell_type": "code",
   "execution_count": 12,
   "id": "a5de048b",
   "metadata": {
    "scrolled": false
   },
   "outputs": [],
   "source": [
    "#Sobel\n",
    "img = cv.imread('pineapple.jfif', 0)\n",
    "sobel_x = cv.Sobel(img, cv.CV_64F, 1, 0, ksize=1)\n",
    "sobel_y = cv.Sobel(img, cv.CV_64F, 0, 1, ksize=1)\n",
    "sobel_64f = cv.magnitude(sobel_x, sobel_y)\n",
    "sobel_8u = cv.convertScaleAbs(sobel_64f)\n",
    "\n",
    "#Laplacian\n",
    "img = cv.imread('pineapple.jfif', 0)\n",
    "img_blur = cv.GaussianBlur(img, (5,5), 0)\n",
    "laplacian = cv.Laplacian(img_blur, cv.CV_64F, ksize = 1)\n",
    "laplacian_8u = cv.convertScaleAbs(laplacian)\n",
    "\n",
    "#Prewitt\n",
    "img = cv.imread('pineapple.jfif', 0)\n",
    "h, w = img.shape\n",
    "prewitt = np.zeros((h,w))\n",
    "kernel_x = np.array([[-1, 0, 1], [-1, 0, 1], [-1, 0, 1]])\n",
    "kernel_y = np.array([[-1, -1, -1], [0, 0, 0], [1, 1, 1]])\n",
    "for i in range(1, h - 1):\n",
    "    for j in range(1, w - 1):\n",
    "        grad_x = (kernel_x[0, 0] * img[i - 1, j - 1]) + \\\n",
    "                         (kernel_x[0, 1] * img[i - 1, j]) + \\\n",
    "                         (kernel_x[0, 2] * img[i - 1, j + 1]) + \\\n",
    "                         (kernel_x[1, 0] * img[i, j - 1]) + \\\n",
    "                         (kernel_x[1, 1] * img[i, j]) + \\\n",
    "                         (kernel_x[1, 2] * img[i, j + 1]) + \\\n",
    "                         (kernel_x[2, 0] * img[i + 1, j - 1]) + \\\n",
    "                         (kernel_x[2, 1] * img[i + 1, j]) + \\\n",
    "                         (kernel_x[2, 2] * img[i + 1, j + 1])\n",
    "\n",
    "        grad_y = (kernel_y[0, 0] * img[i - 1, j - 1]) + \\\n",
    "                       (kernel_y[0, 1] * img[i - 1, j]) + \\\n",
    "                       (kernel_y[0, 2] * img[i - 1, j + 1]) + \\\n",
    "                       (kernel_y[1, 0] * img[i, j - 1]) + \\\n",
    "                       (kernel_y[1, 1] * img[i, j]) + \\\n",
    "                       (kernel_y[1, 2] * img[i, j + 1]) + \\\n",
    "                       (kernel_y[2, 0] * img[i + 1, j - 1]) + \\\n",
    "                       (kernel_y[2, 1] * img[i + 1, j]) + \\\n",
    "                       (kernel_y[2, 2] * img[i + 1, j + 1])\n",
    "\n",
    "        # Edge Magnitude\n",
    "        magnitude = np.sqrt(pow(grad_x, 2.0) + pow(grad_y, 2.0))\n",
    "        prewitt[i - 1, j - 1] = magnitude\n",
    "\n",
    "#Scharr\n",
    "img = cv.imread('pineapple.jfif', 0)\n",
    "scharr_x = cv.Scharr(img, cv.CV_64F, 1, 0)\n",
    "scharr_y = cv.Scharr(img, cv.CV_64F, 0, 1)\n",
    "scharr_64f = cv.magnitude(scharr_x, scharr_y)\n",
    "scharr_8u = cv.convertScaleAbs(scharr_64f)\n",
    "\n",
    "#Canny\n",
    "img = cv.imread('pineapple.jfif', 0)\n",
    "canny = cv.Canny(img, 66, 250, apertureSize=3)\n",
    "\n",
    "cv.imshow(\"Sobel, Laplacian, Prewitt, Scharr and Canny\", \n",
    "          np.hstack((sobel_8u,laplacian_8u,prewitt,scharr_8u,canny)))\n",
    "cv.waitKey(0)\n",
    "cv.destroyAllWindows()"
   ]
  },
  {
   "cell_type": "markdown",
   "id": "a2bf2a95",
   "metadata": {},
   "source": [
    "Not very sure what is wrong but Canny seems better compared to the other 4."
   ]
  },
  {
   "cell_type": "markdown",
   "id": "59c88b98",
   "metadata": {},
   "source": [
    "4. Write a program to identify the white object (probably laptop) present in the image 'electronic.jfif'. Draw bounding boxes on the objects."
   ]
  },
  {
   "cell_type": "code",
   "execution_count": 66,
   "id": "74bca925",
   "metadata": {},
   "outputs": [],
   "source": [
    "img = cv.imread('electronic.jfif') #grayscale\n",
    "blur = cv.GaussianBlur(img, (5,5), 0)\n",
    "gray = cv.cvtColor(blur, cv.COLOR_BGR2GRAY)\n",
    "\n",
    "_, thresh = cv.threshold(gray, 190, 255, cv.THRESH_BINARY)\n",
    "\n",
    "\n",
    "cv.rectangle(img,(28, 75),(185,170),(0,0,255),2)\n",
    "\n",
    "cv.imshow('img', img)\n",
    "cv.waitKey(0)\n",
    "cv.destroyAllWindows()\n"
   ]
  },
  {
   "cell_type": "code",
   "execution_count": null,
   "id": "c7286296",
   "metadata": {},
   "outputs": [],
   "source": []
  },
  {
   "cell_type": "code",
   "execution_count": null,
   "id": "2cc54760",
   "metadata": {},
   "outputs": [],
   "source": []
  }
 ],
 "metadata": {
  "kernelspec": {
   "display_name": "Python 3 (ipykernel)",
   "language": "python",
   "name": "python3"
  },
  "language_info": {
   "codemirror_mode": {
    "name": "ipython",
    "version": 3
   },
   "file_extension": ".py",
   "mimetype": "text/x-python",
   "name": "python",
   "nbconvert_exporter": "python",
   "pygments_lexer": "ipython3",
   "version": "3.9.12"
  }
 },
 "nbformat": 4,
 "nbformat_minor": 5
}
