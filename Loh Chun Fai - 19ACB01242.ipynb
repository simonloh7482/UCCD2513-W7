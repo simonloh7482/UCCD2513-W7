{
 "cells": [
  {
   "cell_type": "markdown",
   "id": "ea833a10",
   "metadata": {},
   "source": [
    "# Setup"
   ]
  },
  {
   "cell_type": "code",
   "execution_count": 1,
   "id": "7d71785f",
   "metadata": {},
   "outputs": [
    {
     "data": {
      "text/plain": [
       "True"
      ]
     },
     "execution_count": 1,
     "metadata": {},
     "output_type": "execute_result"
    }
   ],
   "source": [
    "import sys\n",
    "# Python 3.7 is required\n",
    "assert sys.version_info >= (3,7)\n",
    "\n",
    "import cv2 as cv\n",
    "import numpy as np\n",
    "import matplotlib.pyplot as plt\n",
    "\n",
    "# Make sure that optimization is enabled\n",
    "if not cv.useOptimized():\n",
    "    cv.setUseOptimized(True)\n",
    "\n",
    "cv.useOptimized()"
   ]
  },
  {
   "cell_type": "markdown",
   "id": "c2784f43",
   "metadata": {},
   "source": [
    "1. Apply histogram equalization on a histogram equalized image. In other words, apply histogram equalization twice on an image. Is there any difference between the first and second output image? You are free to use any image."
   ]
  },
  {
   "cell_type": "code",
   "execution_count": null,
   "id": "61e92080",
   "metadata": {},
   "outputs": [],
   "source": [
    "img = cv.imread('winter.jfif',0)\n",
    "eq1 = cv.equalizeHist(img)\n",
    "eq2 = cv.equalizeHist(eq1)\n",
    "cv.imshow('result', np.hstack([img,eq1,eq2]))\n",
    "cv.waitKey(0)\n",
    "cv.destroyAllWindows()"
   ]
  },
  {
   "cell_type": "markdown",
   "id": "3aa64688",
   "metadata": {},
   "source": [
    "There are no difference between the images."
   ]
  },
  {
   "cell_type": "markdown",
   "id": "497c5c09",
   "metadata": {},
   "source": [
    "2. Load the image 'electronic.jfif'. Then,\n",
    "    - Experiment with different kernel size. Which kernel size is the most appropriate?\n",
    "    - Perform edge detection using Sobel operator (combined both x and y) with and without image smoothing (Gaussian blurring). Display the 2 images.\n",
    "    - Try Laplacian of Gaussian\n",
    "\n",
    "    Based on the exercise conducted from (A) - (C), which image processing pathway is optimal? Justify your answer."
   ]
  },
  {
   "cell_type": "code",
   "execution_count": 24,
   "id": "87d892cb",
   "metadata": {},
   "outputs": [
    {
     "data": {
      "text/plain": [
       "27"
      ]
     },
     "execution_count": 24,
     "metadata": {},
     "output_type": "execute_result"
    }
   ],
   "source": [
    "img = cv.imread('electronic.jfif', 0)\n",
    "img2 = cv.GaussianBlur(img, (5,5), 0)\n",
    "\n",
    "#Horizontal and vertical Sobel\n",
    "sobel_x1 = cv.Sobel(img, cv.CV_64F, 1, 0, ksize=5)\n",
    "sobel_y1 = cv.Sobel(img, cv.CV_64F, 0, 1, ksize=5)\n",
    "\n",
    "#gradient map (L2 norm)\n",
    "grad1 = cv.magnitude(sobel_x1, sobel_y1)\n",
    "grad1 = cv.convertScaleAbs(grad)\n",
    "\n",
    "#Horizontal and vertical Sobel\n",
    "sobel_x2 = cv.Sobel(img2, cv.CV_64F, 1, 0, ksize=5)\n",
    "sobel_y2 = cv.Sobel(img2, cv.CV_64F, 0, 1, ksize=5)\n",
    "\n",
    "#gradient map (L2 norm)\n",
    "grad2 = cv.magnitude(sobel_x2, sobel_y2)\n",
    "grad2 = cv.convertScaleAbs(grad)\n",
    "\n",
    "cv.imshow('Result', np.hstack((grad1,grad2)))\n",
    "cv.waitKey(0)"
   ]
  },
  {
   "cell_type": "code",
   "execution_count": 23,
   "id": "8a1b7952",
   "metadata": {
    "scrolled": true
   },
   "outputs": [
    {
     "data": {
      "text/plain": [
       "27"
      ]
     },
     "execution_count": 23,
     "metadata": {},
     "output_type": "execute_result"
    }
   ],
   "source": []
  },
  {
   "cell_type": "code",
   "execution_count": null,
   "id": "7e8c1c99",
   "metadata": {},
   "outputs": [],
   "source": [
    "#Laplacian of Gaussian\n",
    "img_blur = cv.GaussianBlur(img, (5,5), 0)\n",
    "laplacian = cv.Laplacian(img_blur, cv.CV_64F, ksize = 3)\n",
    "laplacian_8u = cv.convertScaleAbs(laplacian)\n",
    "\n",
    "cv.imshow('laplacian', laplacian_8u)\n",
    "cv.waitKey(0)\n",
    "cv.destroyAllWindows()"
   ]
  },
  {
   "cell_type": "markdown",
   "id": "08184f18",
   "metadata": {},
   "source": [
    "3. Experiment with different edge detectors: Sobel, Laplacian, Prewitt, Scharr derivatives and Canny operators (all with aperture size of 3) on image named 'pineapple.jfif'. Comment on the results."
   ]
  },
  {
   "cell_type": "code",
   "execution_count": null,
   "id": "a5de048b",
   "metadata": {},
   "outputs": [],
   "source": []
  },
  {
   "cell_type": "markdown",
   "id": "59c88b98",
   "metadata": {},
   "source": [
    "4. Write a program to identify the white object (probably laptop) present in the image 'electronic.jfif'. Draw bounding boxes on the objects."
   ]
  },
  {
   "cell_type": "code",
   "execution_count": null,
   "id": "74bca925",
   "metadata": {},
   "outputs": [],
   "source": []
  },
  {
   "cell_type": "code",
   "execution_count": null,
   "id": "c7286296",
   "metadata": {},
   "outputs": [],
   "source": []
  }
 ],
 "metadata": {
  "kernelspec": {
   "display_name": "Python 3 (ipykernel)",
   "language": "python",
   "name": "python3"
  },
  "language_info": {
   "codemirror_mode": {
    "name": "ipython",
    "version": 3
   },
   "file_extension": ".py",
   "mimetype": "text/x-python",
   "name": "python",
   "nbconvert_exporter": "python",
   "pygments_lexer": "ipython3",
   "version": "3.8.8"
  }
 },
 "nbformat": 4,
 "nbformat_minor": 5
}
